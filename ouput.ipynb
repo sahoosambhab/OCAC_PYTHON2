{
 "cells": [
  {
   "cell_type": "code",
   "execution_count": 1,
   "id": "0a5d592c-8fd2-4925-beac-0bd3866f346c",
   "metadata": {},
   "outputs": [
    {
     "name": "stdout",
     "output_type": "stream",
     "text": [
      "2.0\n"
     ]
    }
   ],
   "source": [
    "print(2.0)"
   ]
  },
  {
   "cell_type": "code",
   "execution_count": 2,
   "id": "7e48c30c-2026-449a-89bb-e31a7468ad75",
   "metadata": {},
   "outputs": [
    {
     "name": "stdout",
     "output_type": "stream",
     "text": [
      "where are you from    ????\n"
     ]
    }
   ],
   "source": [
    "print(\"where are you from    ????\")"
   ]
  },
  {
   "cell_type": "code",
   "execution_count": 3,
   "id": "efacbdcc-e642-409b-a47d-0c413482abb0",
   "metadata": {},
   "outputs": [
    {
     "name": "stdout",
     "output_type": "stream",
     "text": [
      "50.9\n"
     ]
    }
   ],
   "source": [
    "b=50.9\n",
    "print(b)"
   ]
  },
  {
   "cell_type": "code",
   "execution_count": 4,
   "id": "3acf7c2c-0f43-4a9b-9994-01527462dee4",
   "metadata": {},
   "outputs": [
    {
     "name": "stdout",
     "output_type": "stream",
     "text": [
      "55 siva 10 and siva 9.89\n"
     ]
    }
   ],
   "source": [
    "a=55\n",
    "b=\"siva\"\n",
    "siva=9.89\n",
    "d=\"10 and siva\"\n",
    "print(a,b,d,siva)"
   ]
  },
  {
   "cell_type": "code",
   "execution_count": 5,
   "id": "2c1e6cac-9ecd-4556-8f21-e48c3b1863a6",
   "metadata": {},
   "outputs": [
    {
     "name": "stdout",
     "output_type": "stream",
     "text": [
      "50.9\n"
     ]
    },
    {
     "data": {
      "text/plain": [
       "float"
      ]
     },
     "execution_count": 5,
     "metadata": {},
     "output_type": "execute_result"
    }
   ],
   "source": [
    "b=50.9\n",
    "print(b)\n",
    "type(b)"
   ]
  },
  {
   "cell_type": "code",
   "execution_count": 6,
   "id": "b2ac3421-b31a-492a-b94f-b79f3b7b5b59",
   "metadata": {},
   "outputs": [
    {
     "name": "stdout",
     "output_type": "stream",
     "text": [
      "75\n",
      "75\n",
      "75\n"
     ]
    }
   ],
   "source": [
    "a=25\n",
    "b=50\n",
    "c=a+b\n",
    "print(c)\n",
    "print(a+b)\n",
    "print(25+50)"
   ]
  },
  {
   "cell_type": "code",
   "execution_count": 7,
   "id": "4dadce64-7716-488d-974a-bf5f2d080d71",
   "metadata": {},
   "outputs": [
    {
     "name": "stdout",
     "output_type": "stream",
     "text": [
      "55/siva/10 and siva/9.89\n"
     ]
    }
   ],
   "source": [
    "a=55\n",
    "b=\"siva\"\n",
    "siva=9.89\n",
    "d=\"10 and siva\"\n",
    "print(a,b,d,siva,sep=\"/\")"
   ]
  },
  {
   "cell_type": "code",
   "execution_count": 8,
   "id": "5443cf91-8d80-4b9a-8ec4-cd973487327c",
   "metadata": {},
   "outputs": [
    {
     "name": "stdout",
     "output_type": "stream",
     "text": [
      "the value of b : 55.7\n"
     ]
    }
   ],
   "source": [
    "b=55.7\n",
    "print(\"the value of b :\",b)"
   ]
  },
  {
   "cell_type": "code",
   "execution_count": 9,
   "id": "821c546a-0e09-420a-aac4-60a4032fa95e",
   "metadata": {},
   "outputs": [
    {
     "name": "stdout",
     "output_type": "stream",
     "text": [
      "name chahal basundhara\n"
     ]
    }
   ],
   "source": [
    "first_name=\"basundhara\"\n",
    "last_name=\"chahal\"\n",
    "print(\"name\",last_name,first_name)"
   ]
  },
  {
   "cell_type": "code",
   "execution_count": 10,
   "id": "e57c5369-6a8b-4044-9646-cf756a0e078a",
   "metadata": {},
   "outputs": [
    {
     "name": "stdout",
     "output_type": "stream",
     "text": [
      "my first name is : basundhara and last name is : chahal\n"
     ]
    }
   ],
   "source": [
    "first_name=\"basundhara\"\n",
    "last_name=\"chahal\"\n",
    "print(\"my first name is :\",first_name,\"and last name is :\",last_name)"
   ]
  },
  {
   "cell_type": "code",
   "execution_count": 12,
   "id": "01a69518-ca28-443f-b9f5-5760a07c67c2",
   "metadata": {},
   "outputs": [
    {
     "name": "stdout",
     "output_type": "stream",
     "text": [
      "my first name is : basundhara and my last name is chahal\n"
     ]
    }
   ],
   "source": [
    "first_name=\"basundhara\"\n",
    "last_name=\"chahal\"\n",
    "print(\"my first name is : {} and my last name is {}\".format(first_name,last_name))"
   ]
  },
  {
   "cell_type": "code",
   "execution_count": 14,
   "id": "a7ab18e1-8d7c-4d2d-80ad-68aafe62c8c1",
   "metadata": {},
   "outputs": [
    {
     "name": "stdout",
     "output_type": "stream",
     "text": [
      "my first name is : {first_name} and my last name is {last_name}\n"
     ]
    }
   ],
   "source": [
    "first_name=\"basundhara\"\n",
    "last_name=\"chahal\"\n",
    "print(\"my first name is : {first_name} and my last name is {last_name}\")"
   ]
  },
  {
   "cell_type": "code",
   "execution_count": 17,
   "id": "ce00355c-ea28-4b1e-a620-93e42f836b01",
   "metadata": {},
   "outputs": [
    {
     "name": "stdout",
     "output_type": "stream",
     "text": [
      "my first name is : basundhara and my last name is : chahal\n"
     ]
    }
   ],
   "source": [
    "first_name=\"basundhara\"\n",
    "last_name=\"chahal\"\n",
    "print(\"my first name is : {first} and my last name is : {last}\".format(first=first_name,last=last_name))"
   ]
  },
  {
   "cell_type": "code",
   "execution_count": 20,
   "id": "054a5edb-9a7a-46e0-9543-4bac077b9082",
   "metadata": {},
   "outputs": [
    {
     "name": "stdout",
     "output_type": "stream",
     "text": [
      "hello sambhab ! how are you sambhab .\n"
     ]
    }
   ],
   "source": [
    "print(\"hello {name} ! {greeting} {name} .\".format(name=\"sambhab\",greeting=\"how are you\"))"
   ]
  },
  {
   "cell_type": "code",
   "execution_count": 21,
   "id": "21002471-d73c-45ff-a4de-af70f9306cd2",
   "metadata": {},
   "outputs": [
    {
     "name": "stdout",
     "output_type": "stream",
     "text": [
      "the story of jhon , pirate and his brother\n"
     ]
    }
   ],
   "source": [
    "print(\"the story of {} , {} and {other}\".format(\"jhon\",\"pirate\",other=\"his brother\"))"
   ]
  },
  {
   "cell_type": "code",
   "execution_count": null,
   "id": "9a55f671-248a-4598-84d5-1209a6f717f3",
   "metadata": {},
   "outputs": [],
   "source": []
  }
 ],
 "metadata": {
  "kernelspec": {
   "display_name": "Python 3 (ipykernel)",
   "language": "python",
   "name": "python3"
  },
  "language_info": {
   "codemirror_mode": {
    "name": "ipython",
    "version": 3
   },
   "file_extension": ".py",
   "mimetype": "text/x-python",
   "name": "python",
   "nbconvert_exporter": "python",
   "pygments_lexer": "ipython3",
   "version": "3.11.7"
  }
 },
 "nbformat": 4,
 "nbformat_minor": 5
}

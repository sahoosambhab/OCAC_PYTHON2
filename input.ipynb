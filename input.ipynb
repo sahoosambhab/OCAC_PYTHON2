{
 "cells": [
  {
   "cell_type": "code",
   "execution_count": 1,
   "id": "b4b57d31-c3b1-4144-aa6a-b7d1163b5ff3",
   "metadata": {},
   "outputs": [
    {
     "name": "stdin",
     "output_type": "stream",
     "text": [
      "enter your name : sambhab\n"
     ]
    },
    {
     "data": {
      "text/plain": [
       "'sambhab'"
      ]
     },
     "execution_count": 1,
     "metadata": {},
     "output_type": "execute_result"
    }
   ],
   "source": [
    "n=input(\"enter your name :\")\n",
    "n"
   ]
  },
  {
   "cell_type": "code",
   "execution_count": 2,
   "id": "26f87b0f-0e59-47a4-9d4d-18264ff2a485",
   "metadata": {},
   "outputs": [
    {
     "data": {
      "text/plain": [
       "str"
      ]
     },
     "execution_count": 2,
     "metadata": {},
     "output_type": "execute_result"
    }
   ],
   "source": [
    "type(n)"
   ]
  },
  {
   "cell_type": "code",
   "execution_count": 3,
   "id": "918477db-d6a9-4fa7-8596-923e23b4c112",
   "metadata": {},
   "outputs": [
    {
     "name": "stdin",
     "output_type": "stream",
     "text": [
      "enter your phone number : 9853330002\n"
     ]
    },
    {
     "data": {
      "text/plain": [
       "9853330002.0"
      ]
     },
     "execution_count": 3,
     "metadata": {},
     "output_type": "execute_result"
    }
   ],
   "source": [
    "nl=float(input(\"enter your phone number :\"))\n",
    "nl"
   ]
  },
  {
   "cell_type": "code",
   "execution_count": 5,
   "id": "10f18e38-3660-4929-9dac-d43743055dfb",
   "metadata": {},
   "outputs": [
    {
     "name": "stdin",
     "output_type": "stream",
     "text": [
      "what is your name ? sambhab\n"
     ]
    },
    {
     "name": "stdout",
     "output_type": "stream",
     "text": [
      "what is your father's name sambhab?\n"
     ]
    }
   ],
   "source": [
    "name=input(\"what is your name ?\")\n",
    "print(\"what is your father's name \"+ name +\"?\")"
   ]
  },
  {
   "cell_type": "code",
   "execution_count": 9,
   "id": "f8b13063-c7d8-41c2-b81a-a912527b701e",
   "metadata": {},
   "outputs": [
    {
     "name": "stdin",
     "output_type": "stream",
     "text": [
      "what is your village name ? khandagiri\n"
     ]
    },
    {
     "name": "stdout",
     "output_type": "stream",
     "text": [
      "oh! you are from khandagiri.\n"
     ]
    }
   ],
   "source": [
    "villagename=input(\"what is your village name ?\")\n",
    "print(\"oh! you are from \" + villagename + \".\")"
   ]
  },
  {
   "cell_type": "code",
   "execution_count": 11,
   "id": "7dbdafac-6536-4c58-85d1-1b89d4bd25c0",
   "metadata": {},
   "outputs": [
    {
     "name": "stdin",
     "output_type": "stream",
     "text": [
      "enter your name and age :  sambhab 19\n"
     ]
    },
    {
     "name": "stdout",
     "output_type": "stream",
     "text": [
      "sambhab\n",
      "19\n"
     ]
    }
   ],
   "source": [
    "var_1, var_2=input(\"enter your name and age : \").split(\" \")\n",
    "print(var_1)\n",
    "print(var_2)"
   ]
  },
  {
   "cell_type": "code",
   "execution_count": null,
   "id": "3172375c-6f77-4469-8447-df791f04d7d1",
   "metadata": {},
   "outputs": [],
   "source": []
  }
 ],
 "metadata": {
  "kernelspec": {
   "display_name": "Python 3 (ipykernel)",
   "language": "python",
   "name": "python3"
  },
  "language_info": {
   "codemirror_mode": {
    "name": "ipython",
    "version": 3
   },
   "file_extension": ".py",
   "mimetype": "text/x-python",
   "name": "python",
   "nbconvert_exporter": "python",
   "pygments_lexer": "ipython3",
   "version": "3.11.7"
  }
 },
 "nbformat": 4,
 "nbformat_minor": 5
}
